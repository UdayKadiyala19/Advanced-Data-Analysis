{
 "cells": [
  {
   "cell_type": "markdown",
   "id": "a7592a4c",
   "metadata": {},
   "source": [
    "### Analysis 2\n",
    "\n",
    "* 1. Can you tell me No of Vehicles by Brand Available on ebay for sale with the help of visualization\n",
    "* 2. What is the Average price for vehicles based on the type of vehicle as well as on the type of gearbox.Explain me with both numerical and visualization analysis\n",
    "* 3. What is the marginal probability of private seller\n"
   ]
  },
  {
   "cell_type": "markdown",
   "id": "6bb1efe9",
   "metadata": {},
   "source": [
    "Importing the Libraries"
   ]
  },
  {
   "cell_type": "code",
   "execution_count": 1,
   "id": "2c1957f1",
   "metadata": {},
   "outputs": [],
   "source": [
    "import numpy as np\n",
    "import pandas as pd\n",
    "import matplotlib.pyplot as plt\n",
    "import seaborn as sns "
   ]
  },
  {
   "cell_type": "markdown",
   "id": "7c33f0e5",
   "metadata": {},
   "source": [
    "Importing the Dataset"
   ]
  },
  {
   "cell_type": "code",
   "execution_count": 2,
   "id": "79288634",
   "metadata": {},
   "outputs": [],
   "source": [
    "df= pd.read_csv(r\"df_cleaned.csv\")"
   ]
  },
  {
   "cell_type": "code",
   "execution_count": 3,
   "id": "cf1694d1",
   "metadata": {},
   "outputs": [],
   "source": [
    "df.drop(\"Unnamed: 0\",axis=1,inplace=True)"
   ]
  },
  {
   "cell_type": "code",
   "execution_count": 4,
   "id": "4b1822ba",
   "metadata": {},
   "outputs": [
    {
     "data": {
      "text/html": [
       "<div>\n",
       "<style scoped>\n",
       "    .dataframe tbody tr th:only-of-type {\n",
       "        vertical-align: middle;\n",
       "    }\n",
       "\n",
       "    .dataframe tbody tr th {\n",
       "        vertical-align: top;\n",
       "    }\n",
       "\n",
       "    .dataframe thead th {\n",
       "        text-align: right;\n",
       "    }\n",
       "</style>\n",
       "<table border=\"1\" class=\"dataframe\">\n",
       "  <thead>\n",
       "    <tr style=\"text-align: right;\">\n",
       "      <th></th>\n",
       "      <th>dateCrawled</th>\n",
       "      <th>name</th>\n",
       "      <th>seller</th>\n",
       "      <th>offerType</th>\n",
       "      <th>price</th>\n",
       "      <th>abtest</th>\n",
       "      <th>vehicleType</th>\n",
       "      <th>yearOfRegistration</th>\n",
       "      <th>gearbox</th>\n",
       "      <th>powerPS</th>\n",
       "      <th>model</th>\n",
       "      <th>kilometer</th>\n",
       "      <th>monthOfRegistration</th>\n",
       "      <th>fuelType</th>\n",
       "      <th>brand</th>\n",
       "      <th>notRepairedDamage</th>\n",
       "      <th>dateCreated</th>\n",
       "      <th>postalCode</th>\n",
       "      <th>lastSeen</th>\n",
       "    </tr>\n",
       "  </thead>\n",
       "  <tbody>\n",
       "    <tr>\n",
       "      <th>0</th>\n",
       "      <td>2016-03-17 16:54:04</td>\n",
       "      <td>GOLF_4_1_4__3TÜRER</td>\n",
       "      <td>privat</td>\n",
       "      <td>Angebot</td>\n",
       "      <td>1500</td>\n",
       "      <td>test</td>\n",
       "      <td>kleinwagen</td>\n",
       "      <td>2001</td>\n",
       "      <td>manuell</td>\n",
       "      <td>75.0</td>\n",
       "      <td>golf</td>\n",
       "      <td>150000</td>\n",
       "      <td>6</td>\n",
       "      <td>benzin</td>\n",
       "      <td>volkswagen</td>\n",
       "      <td>nein</td>\n",
       "      <td>2016-03-17</td>\n",
       "      <td>91074</td>\n",
       "      <td>2016-03-17 17:40:17</td>\n",
       "    </tr>\n",
       "    <tr>\n",
       "      <th>1</th>\n",
       "      <td>2016-03-31 17:25:20</td>\n",
       "      <td>Skoda_Fabia_1.4_TDI_PD_Classic</td>\n",
       "      <td>privat</td>\n",
       "      <td>Angebot</td>\n",
       "      <td>3600</td>\n",
       "      <td>test</td>\n",
       "      <td>kleinwagen</td>\n",
       "      <td>2008</td>\n",
       "      <td>manuell</td>\n",
       "      <td>69.0</td>\n",
       "      <td>fabia</td>\n",
       "      <td>90000</td>\n",
       "      <td>7</td>\n",
       "      <td>diesel</td>\n",
       "      <td>skoda</td>\n",
       "      <td>nein</td>\n",
       "      <td>2016-03-31</td>\n",
       "      <td>60437</td>\n",
       "      <td>2016-04-06 10:17:21</td>\n",
       "    </tr>\n",
       "    <tr>\n",
       "      <th>2</th>\n",
       "      <td>2016-04-04 17:36:23</td>\n",
       "      <td>BMW_316i___e36_Limousine___Bastlerfahrzeug__Ex...</td>\n",
       "      <td>privat</td>\n",
       "      <td>Angebot</td>\n",
       "      <td>650</td>\n",
       "      <td>test</td>\n",
       "      <td>limousine</td>\n",
       "      <td>1995</td>\n",
       "      <td>manuell</td>\n",
       "      <td>102.0</td>\n",
       "      <td>3er</td>\n",
       "      <td>150000</td>\n",
       "      <td>10</td>\n",
       "      <td>benzin</td>\n",
       "      <td>bmw</td>\n",
       "      <td>ja</td>\n",
       "      <td>2016-04-04</td>\n",
       "      <td>33775</td>\n",
       "      <td>2016-04-06 19:17:07</td>\n",
       "    </tr>\n",
       "    <tr>\n",
       "      <th>3</th>\n",
       "      <td>2016-04-01 20:48:51</td>\n",
       "      <td>Peugeot_206_CC_110_Platinum</td>\n",
       "      <td>privat</td>\n",
       "      <td>Angebot</td>\n",
       "      <td>2200</td>\n",
       "      <td>test</td>\n",
       "      <td>cabrio</td>\n",
       "      <td>2004</td>\n",
       "      <td>manuell</td>\n",
       "      <td>109.0</td>\n",
       "      <td>2_reihe</td>\n",
       "      <td>150000</td>\n",
       "      <td>8</td>\n",
       "      <td>benzin</td>\n",
       "      <td>peugeot</td>\n",
       "      <td>nein</td>\n",
       "      <td>2016-04-01</td>\n",
       "      <td>67112</td>\n",
       "      <td>2016-04-05 18:18:39</td>\n",
       "    </tr>\n",
       "    <tr>\n",
       "      <th>4</th>\n",
       "      <td>2016-03-26 19:54:18</td>\n",
       "      <td>Mazda_3_1.6_Sport</td>\n",
       "      <td>privat</td>\n",
       "      <td>Angebot</td>\n",
       "      <td>2000</td>\n",
       "      <td>control</td>\n",
       "      <td>limousine</td>\n",
       "      <td>2004</td>\n",
       "      <td>manuell</td>\n",
       "      <td>105.0</td>\n",
       "      <td>3_reihe</td>\n",
       "      <td>150000</td>\n",
       "      <td>12</td>\n",
       "      <td>benzin</td>\n",
       "      <td>mazda</td>\n",
       "      <td>nein</td>\n",
       "      <td>2016-03-26</td>\n",
       "      <td>96224</td>\n",
       "      <td>2016-04-06 10:45:34</td>\n",
       "    </tr>\n",
       "  </tbody>\n",
       "</table>\n",
       "</div>"
      ],
      "text/plain": [
       "           dateCrawled                                               name  \\\n",
       "0  2016-03-17 16:54:04                                 GOLF_4_1_4__3TÜRER   \n",
       "1  2016-03-31 17:25:20                     Skoda_Fabia_1.4_TDI_PD_Classic   \n",
       "2  2016-04-04 17:36:23  BMW_316i___e36_Limousine___Bastlerfahrzeug__Ex...   \n",
       "3  2016-04-01 20:48:51                        Peugeot_206_CC_110_Platinum   \n",
       "4  2016-03-26 19:54:18                                  Mazda_3_1.6_Sport   \n",
       "\n",
       "   seller offerType  price   abtest vehicleType  yearOfRegistration  gearbox  \\\n",
       "0  privat   Angebot   1500     test  kleinwagen                2001  manuell   \n",
       "1  privat   Angebot   3600     test  kleinwagen                2008  manuell   \n",
       "2  privat   Angebot    650     test   limousine                1995  manuell   \n",
       "3  privat   Angebot   2200     test      cabrio                2004  manuell   \n",
       "4  privat   Angebot   2000  control   limousine                2004  manuell   \n",
       "\n",
       "   powerPS    model  kilometer  monthOfRegistration fuelType       brand  \\\n",
       "0     75.0     golf     150000                    6   benzin  volkswagen   \n",
       "1     69.0    fabia      90000                    7   diesel       skoda   \n",
       "2    102.0      3er     150000                   10   benzin         bmw   \n",
       "3    109.0  2_reihe     150000                    8   benzin     peugeot   \n",
       "4    105.0  3_reihe     150000                   12   benzin       mazda   \n",
       "\n",
       "  notRepairedDamage dateCreated  postalCode             lastSeen  \n",
       "0              nein  2016-03-17       91074  2016-03-17 17:40:17  \n",
       "1              nein  2016-03-31       60437  2016-04-06 10:17:21  \n",
       "2                ja  2016-04-04       33775  2016-04-06 19:17:07  \n",
       "3              nein  2016-04-01       67112  2016-04-05 18:18:39  \n",
       "4              nein  2016-03-26       96224  2016-04-06 10:45:34  "
      ]
     },
     "execution_count": 4,
     "metadata": {},
     "output_type": "execute_result"
    }
   ],
   "source": [
    "df.head()"
   ]
  },
  {
   "cell_type": "markdown",
   "id": "d32fa43f",
   "metadata": {},
   "source": [
    "#### 1. Can you tell me No of Vehicles by Brand Available on ebay for sale with the help of visualization"
   ]
  },
  {
   "cell_type": "code",
   "execution_count": 5,
   "id": "1cd5835a",
   "metadata": {},
   "outputs": [
    {
     "data": {
      "text/plain": [
       "<Axes: xlabel='brand'>"
      ]
     },
     "execution_count": 5,
     "metadata": {},
     "output_type": "execute_result"
    },
    {
     "data": {
      "image/png": "[encoded data removed]",
      "text/plain": [
       "<Figure size 700x500 with 1 Axes>"
      ]
     },
     "metadata": {},
     "output_type": "display_data"
    }
   ],
   "source": [
    "df[\"brand\"].value_counts().plot(kind=\"bar\",figsize=(7,5))"
   ]
  },
  {
   "cell_type": "markdown",
   "id": "9c88500b",
   "metadata": {},
   "source": [
    "#### conclusion:\n",
    "* As per the data,volkswagen is the most repeated brand and it's count is around 55000.\n",
    "* rover,trabant,lada are the least repeated vehicle type and it's count is less than 300."
   ]
  },
  {
   "cell_type": "markdown",
   "id": "40f8680c",
   "metadata": {},
   "source": [
    "#### 2. What is the Average price for vehicles based on the type of vehicle as well as on the type of gearbox.Explain me with both numerical and visualization analysis"
   ]
  },
  {
   "cell_type": "code",
   "execution_count": 12,
   "id": "73433087",
   "metadata": {},
   "outputs": [
    {
     "data": {
      "text/html": [
       "<div>\n",
       "<style scoped>\n",
       "    .dataframe tbody tr th:only-of-type {\n",
       "        vertical-align: middle;\n",
       "    }\n",
       "\n",
       "    .dataframe tbody tr th {\n",
       "        vertical-align: top;\n",
       "    }\n",
       "\n",
       "    .dataframe thead th {\n",
       "        text-align: right;\n",
       "    }\n",
       "</style>\n",
       "<table border=\"1\" class=\"dataframe\">\n",
       "  <thead>\n",
       "    <tr style=\"text-align: right;\">\n",
       "      <th></th>\n",
       "      <th></th>\n",
       "      <th>price</th>\n",
       "    </tr>\n",
       "    <tr>\n",
       "      <th>vehicleType</th>\n",
       "      <th>gearbox</th>\n",
       "      <th></th>\n",
       "    </tr>\n",
       "  </thead>\n",
       "  <tbody>\n",
       "    <tr>\n",
       "      <th rowspan=\"2\" valign=\"top\">andere</th>\n",
       "      <th>automatik</th>\n",
       "      <td>9511.668831</td>\n",
       "    </tr>\n",
       "    <tr>\n",
       "      <th>manuell</th>\n",
       "      <td>4477.018492</td>\n",
       "    </tr>\n",
       "    <tr>\n",
       "      <th rowspan=\"2\" valign=\"top\">bus</th>\n",
       "      <th>automatik</th>\n",
       "      <td>11413.055187</td>\n",
       "    </tr>\n",
       "    <tr>\n",
       "      <th>manuell</th>\n",
       "      <td>6326.469034</td>\n",
       "    </tr>\n",
       "    <tr>\n",
       "      <th rowspan=\"2\" valign=\"top\">cabrio</th>\n",
       "      <th>automatik</th>\n",
       "      <td>16726.149908</td>\n",
       "    </tr>\n",
       "    <tr>\n",
       "      <th>manuell</th>\n",
       "      <td>9254.991336</td>\n",
       "    </tr>\n",
       "    <tr>\n",
       "      <th rowspan=\"2\" valign=\"top\">coupe</th>\n",
       "      <th>automatik</th>\n",
       "      <td>17197.786314</td>\n",
       "    </tr>\n",
       "    <tr>\n",
       "      <th>manuell</th>\n",
       "      <td>10368.350171</td>\n",
       "    </tr>\n",
       "    <tr>\n",
       "      <th rowspan=\"2\" valign=\"top\">kleinwagen</th>\n",
       "      <th>automatik</th>\n",
       "      <td>4498.312227</td>\n",
       "    </tr>\n",
       "    <tr>\n",
       "      <th>manuell</th>\n",
       "      <td>3315.417018</td>\n",
       "    </tr>\n",
       "    <tr>\n",
       "      <th rowspan=\"2\" valign=\"top\">kombi</th>\n",
       "      <th>automatik</th>\n",
       "      <td>9665.600545</td>\n",
       "    </tr>\n",
       "    <tr>\n",
       "      <th>manuell</th>\n",
       "      <td>5391.274857</td>\n",
       "    </tr>\n",
       "    <tr>\n",
       "      <th rowspan=\"2\" valign=\"top\">limousine</th>\n",
       "      <th>automatik</th>\n",
       "      <td>10639.550393</td>\n",
       "    </tr>\n",
       "    <tr>\n",
       "      <th>manuell</th>\n",
       "      <td>5155.430152</td>\n",
       "    </tr>\n",
       "    <tr>\n",
       "      <th rowspan=\"2\" valign=\"top\">suv</th>\n",
       "      <th>automatik</th>\n",
       "      <td>17435.465081</td>\n",
       "    </tr>\n",
       "    <tr>\n",
       "      <th>manuell</th>\n",
       "      <td>10547.222997</td>\n",
       "    </tr>\n",
       "  </tbody>\n",
       "</table>\n",
       "</div>"
      ],
      "text/plain": [
       "                              price\n",
       "vehicleType gearbox                \n",
       "andere      automatik   9511.668831\n",
       "            manuell     4477.018492\n",
       "bus         automatik  11413.055187\n",
       "            manuell     6326.469034\n",
       "cabrio      automatik  16726.149908\n",
       "            manuell     9254.991336\n",
       "coupe       automatik  17197.786314\n",
       "            manuell    10368.350171\n",
       "kleinwagen  automatik   4498.312227\n",
       "            manuell     3315.417018\n",
       "kombi       automatik   9665.600545\n",
       "            manuell     5391.274857\n",
       "limousine   automatik  10639.550393\n",
       "            manuell     5155.430152\n",
       "suv         automatik  17435.465081\n",
       "            manuell    10547.222997"
      ]
     },
     "execution_count": 12,
     "metadata": {},
     "output_type": "execute_result"
    }
   ],
   "source": [
    "n= pd.DataFrame(df.groupby([\"vehicleType\",\"gearbox\"])[\"price\"].mean())\n",
    "n"
   ]
  },
  {
   "cell_type": "code",
   "execution_count": 7,
   "id": "9830f57c",
   "metadata": {},
   "outputs": [
    {
     "data": {
      "text/plain": [
       "<Axes: xlabel='vehicleType', ylabel='price'>"
      ]
     },
     "execution_count": 7,
     "metadata": {},
     "output_type": "execute_result"
    },
    {
     "data": {
      "image/png": "[encoded data removed]",
      "text/plain": [
       "<Figure size 640x480 with 1 Axes>"
      ]
     },
     "metadata": {},
     "output_type": "display_data"
    }
   ],
   "source": [
    "sns.barplot(data= n, x=\"vehicleType\" ,y=\"price\",hue=\"gearbox\")"
   ]
  },
  {
   "cell_type": "markdown",
   "id": "b14baa6e",
   "metadata": {},
   "source": [
    "#### 3. What is the marginal probability of private seller"
   ]
  },
  {
   "cell_type": "code",
   "execution_count": 8,
   "id": "28ceccfc",
   "metadata": {},
   "outputs": [
    {
     "data": {
      "text/plain": [
       "seller\n",
       "privat        248086\n",
       "gewerblich         2\n",
       "Name: count, dtype: int64"
      ]
     },
     "execution_count": 8,
     "metadata": {},
     "output_type": "execute_result"
    }
   ],
   "source": [
    "df[\"seller\"].value_counts()"
   ]
  },
  {
   "cell_type": "code",
   "execution_count": 9,
   "id": "cb2458fb",
   "metadata": {},
   "outputs": [
    {
     "name": "stdout",
     "output_type": "stream",
     "text": [
      "The Marginal Probability of the private seller is: 0.9999919383444584\n"
     ]
    }
   ],
   "source": [
    "print(\"The Marginal Probability of the private seller is:\",(df[\"seller\"].value_counts()/len(df))['privat'])"
   ]
  },
  {
   "cell_type": "code",
   "execution_count": null,
   "id": "9ad6ab13",
   "metadata": {},
   "outputs": [],
   "source": []
  }
 ],
 "metadata": {
  "kernelspec": {
   "display_name": "Python 3 (ipykernel)",
   "language": "python",
   "name": "python3"
  },
  "language_info": {
   "codemirror_mode": {
    "name": "ipython",
    "version": 3
   },
   "file_extension": ".py",
   "mimetype": "text/x-python",
   "name": "python",
   "nbconvert_exporter": "python",
   "pygments_lexer": "ipython3",
   "version": "3.11.4"
  }
 },
 "nbformat": 4,
 "nbformat_minor": 5
}
