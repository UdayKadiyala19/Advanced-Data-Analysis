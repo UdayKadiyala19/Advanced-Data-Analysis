{
 "cells": [
  {
   "cell_type": "markdown",
   "id": "16c2fb9d",
   "metadata": {},
   "source": [
    "**Data Analysis1**\n",
    "\n",
    "* 1) Perform general Data analysis\n",
    "* 2) Can you tell me the Distribution of Vehicles based on Year of Registration with the help of a plot\n",
    "* 3) Create a plot based on the Variation of the price range by the vehicle type\n",
    "* 4) Find out Total count of vehicles by type available on ebay for sale.As well as create a visualization for the client\n",
    "* 5) Is there any relationship between dollar_price and kilometer? (Explain with appropriate analysis)\n"
   ]
  },
  {
   "cell_type": "markdown",
   "id": "4bfe8ec3",
   "metadata": {},
   "source": [
    "#### 1) Perform general Data analysis"
   ]
  },
  {
   "cell_type": "markdown",
   "id": "50dd8cea",
   "metadata": {},
   "source": [
    "Importing the Libraries"
   ]
  },
  {
   "cell_type": "code",
   "execution_count": 1,
   "id": "49a2fd93",
   "metadata": {},
   "outputs": [],
   "source": [
    "import numpy as np\n",
    "import pandas as pd\n",
    "import matplotlib.pyplot as plt\n",
    "import seaborn as sns"
   ]
  },
  {
   "cell_type": "markdown",
   "id": "742e24da",
   "metadata": {},
   "source": [
    "Importing the dataset"
   ]
  },
  {
   "cell_type": "code",
   "execution_count": 2,
   "id": "71141fd2",
   "metadata": {},
   "outputs": [],
   "source": [
    "df= pd.read_csv(r\"C:\\Users\\udayk\\Downloads\\autos.csv\",encoding=\"unicode_escape\")"
   ]
  },
  {
   "cell_type": "code",
   "execution_count": 3,
   "id": "2a716ef0",
   "metadata": {},
   "outputs": [
    {
     "data": {
      "text/html": [
       "<div>\n",
       "<style scoped>\n",
       "    .dataframe tbody tr th:only-of-type {\n",
       "        vertical-align: middle;\n",
       "    }\n",
       "\n",
       "    .dataframe tbody tr th {\n",
       "        vertical-align: top;\n",
       "    }\n",
       "\n",
       "    .dataframe thead th {\n",
       "        text-align: right;\n",
       "    }\n",
       "</style>\n",
       "<table border=\"1\" class=\"dataframe\">\n",
       "  <thead>\n",
       "    <tr style=\"text-align: right;\">\n",
       "      <th></th>\n",
       "      <th>dateCrawled</th>\n",
       "      <th>name</th>\n",
       "      <th>seller</th>\n",
       "      <th>offerType</th>\n",
       "      <th>price</th>\n",
       "      <th>abtest</th>\n",
       "      <th>vehicleType</th>\n",
       "      <th>yearOfRegistration</th>\n",
       "      <th>gearbox</th>\n",
       "      <th>powerPS</th>\n",
       "      <th>model</th>\n",
       "      <th>kilometer</th>\n",
       "      <th>monthOfRegistration</th>\n",
       "      <th>fuelType</th>\n",
       "      <th>brand</th>\n",
       "      <th>notRepairedDamage</th>\n",
       "      <th>dateCreated</th>\n",
       "      <th>nrOfPictures</th>\n",
       "      <th>postalCode</th>\n",
       "      <th>lastSeen</th>\n",
       "    </tr>\n",
       "  </thead>\n",
       "  <tbody>\n",
       "    <tr>\n",
       "      <th>0</th>\n",
       "      <td>2016-03-24 11:52:17</td>\n",
       "      <td>Golf_3_1.6</td>\n",
       "      <td>privat</td>\n",
       "      <td>Angebot</td>\n",
       "      <td>480</td>\n",
       "      <td>test</td>\n",
       "      <td>NaN</td>\n",
       "      <td>1993</td>\n",
       "      <td>manuell</td>\n",
       "      <td>0</td>\n",
       "      <td>golf</td>\n",
       "      <td>150000</td>\n",
       "      <td>0</td>\n",
       "      <td>benzin</td>\n",
       "      <td>volkswagen</td>\n",
       "      <td>NaN</td>\n",
       "      <td>2016-03-24 00:00:00</td>\n",
       "      <td>0</td>\n",
       "      <td>70435</td>\n",
       "      <td>2016-04-07 03:16:57</td>\n",
       "    </tr>\n",
       "    <tr>\n",
       "      <th>1</th>\n",
       "      <td>2016-03-24 10:58:45</td>\n",
       "      <td>A5_Sportback_2.7_Tdi</td>\n",
       "      <td>privat</td>\n",
       "      <td>Angebot</td>\n",
       "      <td>18300</td>\n",
       "      <td>test</td>\n",
       "      <td>coupe</td>\n",
       "      <td>2011</td>\n",
       "      <td>manuell</td>\n",
       "      <td>190</td>\n",
       "      <td>NaN</td>\n",
       "      <td>125000</td>\n",
       "      <td>5</td>\n",
       "      <td>diesel</td>\n",
       "      <td>audi</td>\n",
       "      <td>ja</td>\n",
       "      <td>2016-03-24 00:00:00</td>\n",
       "      <td>0</td>\n",
       "      <td>66954</td>\n",
       "      <td>2016-04-07 01:46:50</td>\n",
       "    </tr>\n",
       "    <tr>\n",
       "      <th>2</th>\n",
       "      <td>2016-03-14 12:52:21</td>\n",
       "      <td>Jeep_Grand_Cherokee_\"Overland\"</td>\n",
       "      <td>privat</td>\n",
       "      <td>Angebot</td>\n",
       "      <td>9800</td>\n",
       "      <td>test</td>\n",
       "      <td>suv</td>\n",
       "      <td>2004</td>\n",
       "      <td>automatik</td>\n",
       "      <td>163</td>\n",
       "      <td>grand</td>\n",
       "      <td>125000</td>\n",
       "      <td>8</td>\n",
       "      <td>diesel</td>\n",
       "      <td>jeep</td>\n",
       "      <td>NaN</td>\n",
       "      <td>2016-03-14 00:00:00</td>\n",
       "      <td>0</td>\n",
       "      <td>90480</td>\n",
       "      <td>2016-04-05 12:47:46</td>\n",
       "    </tr>\n",
       "    <tr>\n",
       "      <th>3</th>\n",
       "      <td>2016-03-17 16:54:04</td>\n",
       "      <td>GOLF_4_1_4__3TÜRER</td>\n",
       "      <td>privat</td>\n",
       "      <td>Angebot</td>\n",
       "      <td>1500</td>\n",
       "      <td>test</td>\n",
       "      <td>kleinwagen</td>\n",
       "      <td>2001</td>\n",
       "      <td>manuell</td>\n",
       "      <td>75</td>\n",
       "      <td>golf</td>\n",
       "      <td>150000</td>\n",
       "      <td>6</td>\n",
       "      <td>benzin</td>\n",
       "      <td>volkswagen</td>\n",
       "      <td>nein</td>\n",
       "      <td>2016-03-17 00:00:00</td>\n",
       "      <td>0</td>\n",
       "      <td>91074</td>\n",
       "      <td>2016-03-17 17:40:17</td>\n",
       "    </tr>\n",
       "    <tr>\n",
       "      <th>4</th>\n",
       "      <td>2016-03-31 17:25:20</td>\n",
       "      <td>Skoda_Fabia_1.4_TDI_PD_Classic</td>\n",
       "      <td>privat</td>\n",
       "      <td>Angebot</td>\n",
       "      <td>3600</td>\n",
       "      <td>test</td>\n",
       "      <td>kleinwagen</td>\n",
       "      <td>2008</td>\n",
       "      <td>manuell</td>\n",
       "      <td>69</td>\n",
       "      <td>fabia</td>\n",
       "      <td>90000</td>\n",
       "      <td>7</td>\n",
       "      <td>diesel</td>\n",
       "      <td>skoda</td>\n",
       "      <td>nein</td>\n",
       "      <td>2016-03-31 00:00:00</td>\n",
       "      <td>0</td>\n",
       "      <td>60437</td>\n",
       "      <td>2016-04-06 10:17:21</td>\n",
       "    </tr>\n",
       "    <tr>\n",
       "      <th>...</th>\n",
       "      <td>...</td>\n",
       "      <td>...</td>\n",
       "      <td>...</td>\n",
       "      <td>...</td>\n",
       "      <td>...</td>\n",
       "      <td>...</td>\n",
       "      <td>...</td>\n",
       "      <td>...</td>\n",
       "      <td>...</td>\n",
       "      <td>...</td>\n",
       "      <td>...</td>\n",
       "      <td>...</td>\n",
       "      <td>...</td>\n",
       "      <td>...</td>\n",
       "      <td>...</td>\n",
       "      <td>...</td>\n",
       "      <td>...</td>\n",
       "      <td>...</td>\n",
       "      <td>...</td>\n",
       "      <td>...</td>\n",
       "    </tr>\n",
       "    <tr>\n",
       "      <th>371523</th>\n",
       "      <td>2016-03-14 17:48:27</td>\n",
       "      <td>Suche_t4___vito_ab_6_sitze</td>\n",
       "      <td>privat</td>\n",
       "      <td>Angebot</td>\n",
       "      <td>2200</td>\n",
       "      <td>test</td>\n",
       "      <td>NaN</td>\n",
       "      <td>2005</td>\n",
       "      <td>NaN</td>\n",
       "      <td>0</td>\n",
       "      <td>NaN</td>\n",
       "      <td>20000</td>\n",
       "      <td>1</td>\n",
       "      <td>NaN</td>\n",
       "      <td>sonstige_autos</td>\n",
       "      <td>NaN</td>\n",
       "      <td>2016-03-14 00:00:00</td>\n",
       "      <td>0</td>\n",
       "      <td>39576</td>\n",
       "      <td>2016-04-06 00:46:52</td>\n",
       "    </tr>\n",
       "    <tr>\n",
       "      <th>371524</th>\n",
       "      <td>2016-03-05 19:56:21</td>\n",
       "      <td>Smart_smart_leistungssteigerung_100ps</td>\n",
       "      <td>privat</td>\n",
       "      <td>Angebot</td>\n",
       "      <td>1199</td>\n",
       "      <td>test</td>\n",
       "      <td>cabrio</td>\n",
       "      <td>2000</td>\n",
       "      <td>automatik</td>\n",
       "      <td>101</td>\n",
       "      <td>fortwo</td>\n",
       "      <td>125000</td>\n",
       "      <td>3</td>\n",
       "      <td>benzin</td>\n",
       "      <td>smart</td>\n",
       "      <td>nein</td>\n",
       "      <td>2016-03-05 00:00:00</td>\n",
       "      <td>0</td>\n",
       "      <td>26135</td>\n",
       "      <td>2016-03-11 18:17:12</td>\n",
       "    </tr>\n",
       "    <tr>\n",
       "      <th>371525</th>\n",
       "      <td>2016-03-19 18:57:12</td>\n",
       "      <td>Volkswagen_Multivan_T4_TDI_7DC_UY2</td>\n",
       "      <td>privat</td>\n",
       "      <td>Angebot</td>\n",
       "      <td>9200</td>\n",
       "      <td>test</td>\n",
       "      <td>bus</td>\n",
       "      <td>1996</td>\n",
       "      <td>manuell</td>\n",
       "      <td>102</td>\n",
       "      <td>transporter</td>\n",
       "      <td>150000</td>\n",
       "      <td>3</td>\n",
       "      <td>diesel</td>\n",
       "      <td>volkswagen</td>\n",
       "      <td>nein</td>\n",
       "      <td>2016-03-19 00:00:00</td>\n",
       "      <td>0</td>\n",
       "      <td>87439</td>\n",
       "      <td>2016-04-07 07:15:26</td>\n",
       "    </tr>\n",
       "    <tr>\n",
       "      <th>371526</th>\n",
       "      <td>2016-03-20 19:41:08</td>\n",
       "      <td>VW_Golf_Kombi_1_9l_TDI</td>\n",
       "      <td>privat</td>\n",
       "      <td>Angebot</td>\n",
       "      <td>3400</td>\n",
       "      <td>test</td>\n",
       "      <td>kombi</td>\n",
       "      <td>2002</td>\n",
       "      <td>manuell</td>\n",
       "      <td>100</td>\n",
       "      <td>golf</td>\n",
       "      <td>150000</td>\n",
       "      <td>6</td>\n",
       "      <td>diesel</td>\n",
       "      <td>volkswagen</td>\n",
       "      <td>NaN</td>\n",
       "      <td>2016-03-20 00:00:00</td>\n",
       "      <td>0</td>\n",
       "      <td>40764</td>\n",
       "      <td>2016-03-24 12:45:21</td>\n",
       "    </tr>\n",
       "    <tr>\n",
       "      <th>371527</th>\n",
       "      <td>2016-03-07 19:39:19</td>\n",
       "      <td>BMW_M135i_vollausgestattet_NP_52.720____Euro</td>\n",
       "      <td>privat</td>\n",
       "      <td>Angebot</td>\n",
       "      <td>28990</td>\n",
       "      <td>control</td>\n",
       "      <td>limousine</td>\n",
       "      <td>2013</td>\n",
       "      <td>manuell</td>\n",
       "      <td>320</td>\n",
       "      <td>m_reihe</td>\n",
       "      <td>50000</td>\n",
       "      <td>8</td>\n",
       "      <td>benzin</td>\n",
       "      <td>bmw</td>\n",
       "      <td>nein</td>\n",
       "      <td>2016-03-07 00:00:00</td>\n",
       "      <td>0</td>\n",
       "      <td>73326</td>\n",
       "      <td>2016-03-22 03:17:10</td>\n",
       "    </tr>\n",
       "  </tbody>\n",
       "</table>\n",
       "<p>371528 rows × 20 columns</p>\n",
       "</div>"
      ],
      "text/plain": [
       "                dateCrawled                                          name  \\\n",
       "0       2016-03-24 11:52:17                                    Golf_3_1.6   \n",
       "1       2016-03-24 10:58:45                          A5_Sportback_2.7_Tdi   \n",
       "2       2016-03-14 12:52:21                Jeep_Grand_Cherokee_\"Overland\"   \n",
       "3       2016-03-17 16:54:04                            GOLF_4_1_4__3TÜRER   \n",
       "4       2016-03-31 17:25:20                Skoda_Fabia_1.4_TDI_PD_Classic   \n",
       "...                     ...                                           ...   \n",
       "371523  2016-03-14 17:48:27                    Suche_t4___vito_ab_6_sitze   \n",
       "371524  2016-03-05 19:56:21         Smart_smart_leistungssteigerung_100ps   \n",
       "371525  2016-03-19 18:57:12            Volkswagen_Multivan_T4_TDI_7DC_UY2   \n",
       "371526  2016-03-20 19:41:08                        VW_Golf_Kombi_1_9l_TDI   \n",
       "371527  2016-03-07 19:39:19  BMW_M135i_vollausgestattet_NP_52.720____Euro   \n",
       "\n",
       "        seller offerType  price   abtest vehicleType  yearOfRegistration  \\\n",
       "0       privat   Angebot    480     test         NaN                1993   \n",
       "1       privat   Angebot  18300     test       coupe                2011   \n",
       "2       privat   Angebot   9800     test         suv                2004   \n",
       "3       privat   Angebot   1500     test  kleinwagen                2001   \n",
       "4       privat   Angebot   3600     test  kleinwagen                2008   \n",
       "...        ...       ...    ...      ...         ...                 ...   \n",
       "371523  privat   Angebot   2200     test         NaN                2005   \n",
       "371524  privat   Angebot   1199     test      cabrio                2000   \n",
       "371525  privat   Angebot   9200     test         bus                1996   \n",
       "371526  privat   Angebot   3400     test       kombi                2002   \n",
       "371527  privat   Angebot  28990  control   limousine                2013   \n",
       "\n",
       "          gearbox  powerPS        model  kilometer  monthOfRegistration  \\\n",
       "0         manuell        0         golf     150000                    0   \n",
       "1         manuell      190          NaN     125000                    5   \n",
       "2       automatik      163        grand     125000                    8   \n",
       "3         manuell       75         golf     150000                    6   \n",
       "4         manuell       69        fabia      90000                    7   \n",
       "...           ...      ...          ...        ...                  ...   \n",
       "371523        NaN        0          NaN      20000                    1   \n",
       "371524  automatik      101       fortwo     125000                    3   \n",
       "371525    manuell      102  transporter     150000                    3   \n",
       "371526    manuell      100         golf     150000                    6   \n",
       "371527    manuell      320      m_reihe      50000                    8   \n",
       "\n",
       "       fuelType           brand notRepairedDamage          dateCreated  \\\n",
       "0        benzin      volkswagen               NaN  2016-03-24 00:00:00   \n",
       "1        diesel            audi                ja  2016-03-24 00:00:00   \n",
       "2        diesel            jeep               NaN  2016-03-14 00:00:00   \n",
       "3        benzin      volkswagen              nein  2016-03-17 00:00:00   \n",
       "4        diesel           skoda              nein  2016-03-31 00:00:00   \n",
       "...         ...             ...               ...                  ...   \n",
       "371523      NaN  sonstige_autos               NaN  2016-03-14 00:00:00   \n",
       "371524   benzin           smart              nein  2016-03-05 00:00:00   \n",
       "371525   diesel      volkswagen              nein  2016-03-19 00:00:00   \n",
       "371526   diesel      volkswagen               NaN  2016-03-20 00:00:00   \n",
       "371527   benzin             bmw              nein  2016-03-07 00:00:00   \n",
       "\n",
       "        nrOfPictures  postalCode             lastSeen  \n",
       "0                  0       70435  2016-04-07 03:16:57  \n",
       "1                  0       66954  2016-04-07 01:46:50  \n",
       "2                  0       90480  2016-04-05 12:47:46  \n",
       "3                  0       91074  2016-03-17 17:40:17  \n",
       "4                  0       60437  2016-04-06 10:17:21  \n",
       "...              ...         ...                  ...  \n",
       "371523             0       39576  2016-04-06 00:46:52  \n",
       "371524             0       26135  2016-03-11 18:17:12  \n",
       "371525             0       87439  2016-04-07 07:15:26  \n",
       "371526             0       40764  2016-03-24 12:45:21  \n",
       "371527             0       73326  2016-03-22 03:17:10  \n",
       "\n",
       "[371528 rows x 20 columns]"
      ]
     },
     "execution_count": 3,
     "metadata": {},
     "output_type": "execute_result"
    }
   ],
   "source": [
    "df"
   ]
  },
  {
   "cell_type": "markdown",
   "id": "967fd636",
   "metadata": {},
   "source": [
    "### Data Cleaning"
   ]
  },
  {
   "cell_type": "code",
   "execution_count": 4,
   "id": "826544a0",
   "metadata": {},
   "outputs": [
    {
     "data": {
      "text/plain": [
       "array([0], dtype=int64)"
      ]
     },
     "execution_count": 4,
     "metadata": {},
     "output_type": "execute_result"
    }
   ],
   "source": [
    "#As there is all zeros in this column so the variance is zero.\n",
    "\n",
    "df[\"nrOfPictures\"].unique()    "
   ]
  },
  {
   "cell_type": "code",
   "execution_count": 5,
   "id": "1470c169",
   "metadata": {},
   "outputs": [],
   "source": [
    "#Dropping this column because it does not contribute any information to analysis.\n",
    "\n",
    "df.drop(\"nrOfPictures\",axis=1,inplace=True)"
   ]
  },
  {
   "cell_type": "markdown",
   "id": "ba92548c",
   "metadata": {},
   "source": [
    "#### Missing Values"
   ]
  },
  {
   "cell_type": "code",
   "execution_count": 6,
   "id": "00d5a7e5",
   "metadata": {},
   "outputs": [
    {
     "data": {
      "text/plain": [
       "dateCrawled                0\n",
       "name                       0\n",
       "seller                     0\n",
       "offerType                  0\n",
       "price                      0\n",
       "abtest                     0\n",
       "vehicleType            37869\n",
       "yearOfRegistration         0\n",
       "gearbox                20209\n",
       "powerPS                    0\n",
       "model                  20484\n",
       "kilometer                  0\n",
       "monthOfRegistration        0\n",
       "fuelType               33386\n",
       "brand                      0\n",
       "notRepairedDamage      72060\n",
       "dateCreated                0\n",
       "postalCode                 0\n",
       "lastSeen                   0\n",
       "dtype: int64"
      ]
     },
     "execution_count": 6,
     "metadata": {},
     "output_type": "execute_result"
    }
   ],
   "source": [
    "#Checking for the missing values\n",
    "\n",
    "df.isna().sum()"
   ]
  },
  {
   "cell_type": "code",
   "execution_count": 7,
   "id": "4d4f2ab5",
   "metadata": {},
   "outputs": [],
   "source": [
    "#Dropping all the missing values\n",
    "\n",
    "df.dropna(axis= 0, inplace= True)"
   ]
  },
  {
   "cell_type": "code",
   "execution_count": 8,
   "id": "84f9224c",
   "metadata": {},
   "outputs": [
    {
     "data": {
      "text/plain": [
       "dateCrawled            0\n",
       "name                   0\n",
       "seller                 0\n",
       "offerType              0\n",
       "price                  0\n",
       "abtest                 0\n",
       "vehicleType            0\n",
       "yearOfRegistration     0\n",
       "gearbox                0\n",
       "powerPS                0\n",
       "model                  0\n",
       "kilometer              0\n",
       "monthOfRegistration    0\n",
       "fuelType               0\n",
       "brand                  0\n",
       "notRepairedDamage      0\n",
       "dateCreated            0\n",
       "postalCode             0\n",
       "lastSeen               0\n",
       "dtype: int64"
      ]
     },
     "execution_count": 8,
     "metadata": {},
     "output_type": "execute_result"
    }
   ],
   "source": [
    "df.isna().sum()"
   ]
  },
  {
   "cell_type": "markdown",
   "id": "25992498",
   "metadata": {},
   "source": [
    "#### Duplicates"
   ]
  },
  {
   "cell_type": "code",
   "execution_count": 9,
   "id": "3466e832",
   "metadata": {
    "scrolled": true
   },
   "outputs": [
    {
     "data": {
      "text/plain": [
       "4"
      ]
     },
     "execution_count": 9,
     "metadata": {},
     "output_type": "execute_result"
    }
   ],
   "source": [
    "#Checking for duplicates, there are 4 duplicate records.\n",
    "\n",
    "sum(df.duplicated())"
   ]
  },
  {
   "cell_type": "code",
   "execution_count": 10,
   "id": "f2ea80b8",
   "metadata": {},
   "outputs": [],
   "source": [
    "df.drop_duplicates(inplace =True) #Dropping the duplicates for the accurate analysis."
   ]
  },
  {
   "cell_type": "code",
   "execution_count": 11,
   "id": "14f6de26",
   "metadata": {},
   "outputs": [
    {
     "data": {
      "text/plain": [
       "0"
      ]
     },
     "execution_count": 11,
     "metadata": {},
     "output_type": "execute_result"
    }
   ],
   "source": [
    "sum(df.duplicated())"
   ]
  },
  {
   "cell_type": "markdown",
   "id": "f67676eb",
   "metadata": {},
   "source": [
    "### Outliers"
   ]
  },
  {
   "cell_type": "code",
   "execution_count": 12,
   "id": "0b522edb",
   "metadata": {},
   "outputs": [],
   "source": [
    "df1 = df.select_dtypes(exclude=\"object\")"
   ]
  },
  {
   "cell_type": "code",
   "execution_count": 13,
   "id": "b7ba82c8",
   "metadata": {},
   "outputs": [
    {
     "data": {
      "image/png": "[encoded data removed]",
      "text/plain": [
       "<Figure size 1200x2000 with 6 Axes>"
      ]
     },
     "metadata": {},
     "output_type": "display_data"
    }
   ],
   "source": [
    "fig, axes = plt.subplots(nrows=len(df1.columns), figsize=(12, 20))\n",
    "\n",
    "for i, column in enumerate(df1.columns):\n",
    "    sns.boxplot(x=df1[column], ax=axes[i])\n",
    "    axes[i].set_title(f'Box Plot for {column}')\n",
    "\n",
    "plt.tight_layout()\n",
    "plt.show()"
   ]
  },
  {
   "cell_type": "markdown",
   "id": "f4db537e",
   "metadata": {},
   "source": [
    "### Outlier Treatment"
   ]
  },
  {
   "cell_type": "markdown",
   "id": "c5bb2319",
   "metadata": {},
   "source": [
    "**`For Price`**"
   ]
  },
  {
   "cell_type": "code",
   "execution_count": 14,
   "id": "64a35706",
   "metadata": {},
   "outputs": [
    {
     "data": {
      "text/plain": [
       "12864"
      ]
     },
     "execution_count": 14,
     "metadata": {},
     "output_type": "execute_result"
    }
   ],
   "source": [
    "#Checking for the outliers count\n",
    "\n",
    "len(df[(df['price']>500000)|(df['price']<500)].index)"
   ]
  },
  {
   "cell_type": "code",
   "execution_count": 15,
   "id": "bdafb5ae",
   "metadata": {},
   "outputs": [],
   "source": [
    "#Dropping the outliers\n",
    "\n",
    "df.drop(df[(df['price']>500000)|(df['price']<500)].index, inplace=True)"
   ]
  },
  {
   "cell_type": "markdown",
   "id": "cf83e830",
   "metadata": {},
   "source": [
    "**`For yearOfRegistration`**"
   ]
  },
  {
   "cell_type": "code",
   "execution_count": 16,
   "id": "539cad39",
   "metadata": {},
   "outputs": [],
   "source": [
    "#The first car registered in Germany was in 1886.\n",
    "#The year of registration less than 1886 and greater than 2023 can be treated as outlier.\n",
    "\n",
    "year= df[(df[\"yearOfRegistration\"]<1886) | (df[\"yearOfRegistration\"]>2023)]"
   ]
  },
  {
   "cell_type": "code",
   "execution_count": 17,
   "id": "752d1839",
   "metadata": {},
   "outputs": [],
   "source": [
    "#Dropping the outliers\n",
    "\n",
    "df= df.drop(year.index) "
   ]
  },
  {
   "cell_type": "markdown",
   "id": "e2774a66",
   "metadata": {},
   "source": [
    "**`For powerPS`**"
   ]
  },
  {
   "cell_type": "code",
   "execution_count": 18,
   "id": "a223202a",
   "metadata": {},
   "outputs": [],
   "source": [
    "#The PowerPS values can be range between 1 to 2400\n",
    "#The values less than 1 and values greater than 2400 can be treated as outliers\n",
    "\n",
    "cond= (df[\"powerPS\"]>2400)|(df[\"powerPS\"]<1)"
   ]
  },
  {
   "cell_type": "code",
   "execution_count": 19,
   "id": "ddd85689",
   "metadata": {},
   "outputs": [],
   "source": [
    "#The outliers can be replaced with median\n",
    "\n",
    "df[\"powerPS\"]= np.where(cond,df[\"powerPS\"].median(),df[\"powerPS\"])"
   ]
  },
  {
   "cell_type": "markdown",
   "id": "19907274",
   "metadata": {},
   "source": [
    "### Structural Errors"
   ]
  },
  {
   "cell_type": "code",
   "execution_count": 20,
   "id": "64834e6a",
   "metadata": {},
   "outputs": [
    {
     "name": "stdout",
     "output_type": "stream",
     "text": [
      "dateCrawled = ['2016-03-17 16:54:04' '2016-03-31 17:25:20' '2016-04-04 17:36:23' ...\n",
      " '2016-03-27 20:36:20' '2016-03-19 18:57:12' '2016-03-07 19:39:19']\n",
      "\n",
      "name = ['GOLF_4_1_4__3TÜRER' 'Skoda_Fabia_1.4_TDI_PD_Classic'\n",
      " 'BMW_316i___e36_Limousine___Bastlerfahrzeug__Export' ... 'turbo_defekt'\n",
      " 'Smart_smart_leistungssteigerung_100ps'\n",
      " 'BMW_M135i_vollausgestattet_NP_52.720____Euro']\n",
      "\n",
      "seller = ['privat' 'gewerblich']\n",
      "\n",
      "offerType = ['Angebot' 'Gesuch']\n",
      "\n",
      "price = [ 1500  3600   650 ...  1559 10985 14989]\n",
      "\n",
      "abtest = ['test' 'control']\n",
      "\n",
      "vehicleType = ['kleinwagen' 'limousine' 'cabrio' 'kombi' 'suv' 'bus' 'coupe' 'andere']\n",
      "\n",
      "yearOfRegistration = [2001 2008 1995 2004 2005 2011 2007 2009 2002 1990 1981 2003 1984 1999\n",
      " 1998 2012 2014 2006 2010 2000 1993 2013 1994 1997 1991 1996 1989 2015\n",
      " 1968 1992 1983 1959 1973 1969 1971 1987 1988 1967 2016 1980 1986 1985\n",
      " 1965 1945 1974 1979 1982 1978 1976 1972 1977 1966 1975 1970 1937 1963\n",
      " 1936 1962 1960 1951 1964 1953 1954 1957 1958 1956 2017 1961 1955 1950\n",
      " 1948 1932 1952 1931 2018 1949 1942 1923 1943 1938 1941 1934 1930 1939\n",
      " 1929 1933 1947]\n",
      "\n",
      "gearbox = ['manuell' 'automatik']\n",
      "\n",
      "powerPS = [7.500e+01 6.900e+01 1.020e+02 1.090e+02 1.050e+02 1.400e+02 1.900e+02\n",
      " 1.360e+02 1.600e+02 2.310e+02 1.180e+02 1.930e+02 9.900e+01 5.000e+01\n",
      " 6.000e+01 1.130e+02 2.180e+02 1.220e+02 1.290e+02 7.000e+01 9.500e+01\n",
      " 1.770e+02 1.160e+02 3.060e+02 6.100e+01 1.010e+02 2.320e+02 1.560e+02\n",
      " 8.000e+01 8.200e+01 2.040e+02 1.500e+02 8.700e+01 8.600e+01 1.310e+02\n",
      " 1.430e+02 3.030e+02 1.250e+02 2.240e+02 2.350e+02 2.000e+02 1.780e+02\n",
      " 2.650e+02 1.630e+02 7.700e+01 1.100e+02 1.200e+02 5.400e+01 2.860e+02\n",
      " 1.700e+02 1.840e+02 8.800e+01 6.400e+01 3.050e+02 1.970e+02 1.790e+02\n",
      " 9.000e+01 2.500e+02 3.130e+02 4.500e+01 9.800e+01 1.150e+02 1.300e+02\n",
      " 1.140e+02 2.110e+02 5.600e+01 3.260e+02 2.010e+02 2.130e+02 1.070e+02\n",
      " 1.740e+02 2.200e+02 1.850e+02 7.300e+01 4.100e+01 1.920e+02 6.600e+01\n",
      " 5.800e+01 5.200e+01 5.100e+02 1.470e+02 7.100e+01 9.700e+01 6.500e+01\n",
      " 2.390e+02 2.950e+02 6.800e+01 2.030e+02 1.440e+02 3.000e+02 1.030e+02\n",
      " 8.500e+01 2.450e+02 2.580e+02 2.920e+02 3.200e+02 6.300e+01 8.100e+01\n",
      " 1.480e+02 3.540e+02 4.400e+01 1.450e+02 1.800e+02 2.800e+02 2.600e+02\n",
      " 4.570e+02 1.040e+02 4.090e+02 3.330e+02 1.170e+02 1.410e+02 1.320e+02\n",
      " 1.650e+02 1.550e+02 2.340e+02 1.580e+02 3.900e+01 2.720e+02 9.200e+01\n",
      " 1.350e+02 2.300e+02 4.350e+02 8.400e+01 2.090e+02 1.460e+02 6.700e+01\n",
      " 1.060e+02 2.760e+02 3.440e+02 3.490e+02 1.000e+02 2.990e+02 7.200e+01\n",
      " 2.370e+02 1.940e+02 1.110e+02 2.790e+02 2.300e+01 3.100e+02 2.560e+02\n",
      " 1.750e+02 9.600e+01 2.260e+02 5.500e+01 1.260e+02 3.010e+02 1.660e+02\n",
      " 3.340e+02 8.300e+01 1.280e+02 1.240e+02 2.190e+02 2.410e+02 1.670e+02\n",
      " 1.820e+02 7.400e+01 1.960e+02 2.380e+02 1.398e+03 2.280e+02 4.800e+01\n",
      " 1.330e+02 3.300e+01 1.390e+02 7.900e+01 2.430e+02 2.520e+02 3.400e+02\n",
      " 1.210e+02 2.220e+02 3.150e+02 1.980e+02 4.500e+02 2.330e+02 3.870e+02\n",
      " 3.470e+02 1.720e+02 1.370e+02 9.400e+01 2.120e+02 4.760e+02 3.140e+02\n",
      " 1.730e+02 3.700e+02 2.900e+02 1.880e+02 2.070e+02 3.850e+02 2.050e+02\n",
      " 7.800e+01 8.900e+01 1.860e+02 1.080e+02 7.600e+01 4.300e+01 4.200e+02\n",
      " 9.530e+02 1.710e+02 1.420e+02 9.100e+01 1.990e+02 1.120e+02 5.700e+01\n",
      " 5.900e+01 3.670e+02 2.980e+02 2.400e+02 2.080e+02 4.080e+02 2.750e+02\n",
      " 4.600e+01 1.270e+02 4.000e+02 2.600e+01 1.760e+02 5.140e+02 1.610e+02\n",
      " 2.840e+02 4.000e+01 6.030e+02 1.520e+02 3.070e+02 2.680e+02 3.550e+02\n",
      " 4.870e+02 4.160e+02 2.730e+02 5.070e+02 2.230e+02 2.550e+02 1.510e+02\n",
      " 1.230e+02 1.540e+02 1.490e+02 5.000e+02 2.660e+02 3.450e+02 4.800e+02\n",
      " 3.600e+02 3.400e+01 2.420e+02 1.620e+02 1.753e+03 3.290e+02 3.960e+02\n",
      " 5.100e+01 4.830e+02 3.300e+02 2.470e+02 1.640e+02 1.680e+02 4.700e+01\n",
      " 2.150e+02 1.800e+01 3.250e+02 2.100e+02 4.320e+02 2.250e+02 3.280e+02\n",
      " 1.380e+02 1.830e+02 2.540e+02 1.500e+01 3.210e+02 4.300e+02 9.520e+02\n",
      " 1.690e+02 3.700e+01 1.190e+02 3.880e+02 4.260e+02 2.490e+02 2.710e+02\n",
      " 3.430e+02 4.620e+02 3.640e+02 3.790e+02 4.490e+02 3.730e+02 2.640e+02\n",
      " 2.200e+01 4.200e+01 1.950e+02 5.300e+01 3.090e+02 3.810e+02 1.890e+02\n",
      " 1.340e+02 2.100e+01 5.870e+02 1.240e+03 5.210e+02 1.900e+03 3.740e+02\n",
      " 2.900e+01 3.820e+02 3.800e+01 2.700e+02 5.040e+02 3.310e+02 3.630e+02\n",
      " 2.610e+02 2.530e+02 5.490e+02 3.760e+02 3.770e+02 2.270e+02 4.210e+02\n",
      " 3.110e+02 2.700e+01 5.850e+02 5.510e+02 5.790e+02 4.150e+02 2.170e+02\n",
      " 3.500e+02 2.000e+01 7.510e+02 5.300e+02 1.100e+01 5.810e+02 3.520e+02\n",
      " 1.570e+02 2.500e+01 3.940e+02 1.200e+01 5.600e+02 1.810e+02 3.500e+01\n",
      " 5.550e+02 4.050e+02 2.960e+02 4.950e+02 5.150e+02 1.659e+03 4.000e+00\n",
      " 2.160e+02 2.940e+02 1.000e+00 1.870e+02 5.170e+02 2.460e+02 5.000e+00\n",
      " 3.270e+02 1.700e+01 3.710e+02 2.590e+02 2.400e+01 5.200e+02 1.600e+01\n",
      " 3.920e+02 9.000e+00 5.400e+02 3.000e+01 4.430e+02 6.200e+01 5.720e+02\n",
      " 1.400e+01 4.010e+02 8.000e+00 4.110e+02 9.000e+02 7.000e+00 2.870e+02\n",
      " 1.900e+01 2.140e+02 5.250e+02 4.410e+02 5.570e+02 2.800e+01 2.360e+02\n",
      " 4.360e+02 9.300e+01 6.000e+02 2.060e+02 5.700e+02 3.350e+02 1.360e+03\n",
      " 2.020e+02 6.320e+02 1.062e+03 1.000e+01 1.590e+02 1.024e+03 1.796e+03\n",
      " 2.770e+02 7.210e+02 1.780e+03 6.500e+02 4.850e+02 7.000e+02 3.160e+02\n",
      " 2.005e+03 1.800e+03 1.399e+03 5.020e+02 2.780e+02 4.310e+02 2.570e+02\n",
      " 5.440e+02 5.800e+02 3.530e+02 4.550e+02 2.880e+02 1.910e+02 2.810e+02\n",
      " 3.750e+02 1.500e+03 3.860e+02 1.001e+03 1.436e+03 1.405e+03 4.340e+02\n",
      " 2.620e+02 2.740e+02 5.710e+02 1.288e+03 1.055e+03 3.510e+02 6.290e+02\n",
      " 1.115e+03 3.410e+02 1.223e+03 1.968e+03 3.830e+02 3.380e+02 4.450e+02\n",
      " 1.920e+03 6.000e+00 1.164e+03 2.690e+02 4.280e+02 3.040e+02 3.900e+02\n",
      " 3.480e+02 6.200e+02 6.760e+02 4.900e+01 5.180e+02 5.750e+02 1.403e+03\n",
      " 4.890e+02 4.660e+02 4.900e+02 2.850e+02 2.830e+02 1.000e+03 5.500e+02\n",
      " 3.800e+02 6.120e+02 7.400e+02 8.510e+02 3.190e+02 1.600e+03 2.510e+02\n",
      " 2.331e+03 4.680e+02 5.190e+02 5.890e+02 6.100e+02 1.530e+02 1.781e+03\n",
      " 1.506e+03 1.598e+03 3.170e+02 5.060e+02 3.980e+02 1.363e+03 3.220e+02\n",
      " 1.054e+03 3.180e+02 6.040e+02 3.240e+02 2.210e+02 3.320e+02 2.000e+00\n",
      " 3.650e+02 4.250e+02 7.020e+02 4.530e+02 6.800e+02 4.750e+02 9.030e+02\n",
      " 2.000e+03 3.620e+02 2.480e+02 3.680e+02 5.050e+02 6.060e+02 1.521e+03\n",
      " 6.010e+02 3.080e+02 1.998e+03 5.010e+02 7.480e+02 5.450e+02 8.710e+02\n",
      " 9.090e+02 1.595e+03 7.760e+02 6.720e+02 4.070e+02 1.199e+03 3.570e+02\n",
      " 1.162e+03 3.390e+02 2.890e+02 3.360e+02 6.780e+02 9.500e+02 1.021e+03\n",
      " 2.009e+03 1.275e+03 4.810e+02 2.440e+02 3.990e+02 1.016e+03 1.362e+03\n",
      " 3.590e+02 6.450e+02 9.070e+02 6.250e+02 3.100e+01 1.995e+03 1.003e+03\n",
      " 1.432e+03 4.240e+02 9.990e+02 2.018e+03 1.433e+03 8.010e+02 1.701e+03\n",
      " 1.502e+03 1.160e+03 1.783e+03 2.290e+02 3.560e+02 1.149e+03 8.500e+02\n",
      " 7.040e+02 2.017e+03 4.700e+02 1.011e+03 1.079e+03 1.300e+01 1.100e+03\n",
      " 1.933e+03 5.080e+02 5.290e+02 4.170e+02 1.707e+03 1.416e+03 1.700e+03\n",
      " 1.012e+03 2.930e+02 5.740e+02 4.400e+02 2.007e+03 4.730e+02 3.000e+00]\n",
      "\n",
      "model = ['golf' 'fabia' '3er' '2_reihe' '3_reihe' 'passat' 'navara' 'twingo'\n",
      " 'c_max' 'a_klasse' 'scirocco' '5er' 'andere' 'civic' 'transporter'\n",
      " 'punto' 'e_klasse' 'one' 'clio' '1er' 'b_klasse' 'astra' 'fortwo' 'a8'\n",
      " 'jetta' 'polo' 'fiesta' 'c_klasse' 'micra' 'vito' 'sprinter' 'escort'\n",
      " 'forester' 'scenic' 'a1' 'combo' 'focus' 'tt' 'a6' 'jazz' 'slk' '7er'\n",
      " '80' '147' 'glk' 'z_reihe' 'ibiza' 'mustang' 'eos' 'a4' 'touran' 'getz'\n",
      " 'insignia' 'megane' 'a3' 'lupo' 'colt' 'corsa' 'vectra' 'berlingo'\n",
      " 'm_klasse' 'tiguan' 'sharan' '6_reihe' 'c4' 'panda' 'up' 'i_reihe' 'ceed'\n",
      " 'kangoo' '5_reihe' 'yeti' 'octavia' 'zafira' 'mii' 'rx_reihe' 'mondeo'\n",
      " '6er' 'fox' 'matiz' 'beetle' 'rio' 'touareg' 'logan' 'omega' 'cuore'\n",
      " 's_max' 'modus' 'a2' 'x_reihe' 'a5' 'galaxy' 'c3' 'viano' 's_klasse'\n",
      " 'avensis' 'sl' 'roomster' 'q5' 'kaefer' 'santa' 'cooper' 'leon'\n",
      " 'sportage' 'caddy' 'clk' 'primera' '4_reihe' 'espace' 'exeo' 'juke'\n",
      " '1_reihe' 'v40' 'accord' 'corolla' 'grand' 'phaeton' 'boxster' 'verso'\n",
      " 'swift' 'rav' 'kuga' 'qashqai' '159' 'picanto' 'stilo' 'alhambra'\n",
      " 'laguna' '911' 'm_reihe' 'transit' 'roadster' 'galant' 'impreza' 'signum'\n",
      " 'crossfire' 'ka' 'agila' 'duster' 'sorento' 'v50' 'mx_reihe' '500'\n",
      " 'meriva' 'discovery' 'c_reihe' 'v_klasse' 'yaris' 'c5' 'aygo' 'almera'\n",
      " 'cc' 'bora' 'forfour' 'cl' 'tigra' '156' '300c' 'ptcruiser' '100'\n",
      " 'cr_reihe' 'xc_reihe' 'spark' 'x_type' 'ducato' 's_type' 'x_trail'\n",
      " 'toledo' 'altea' 'arosa' 'voyager' 'carnival' 'v70' 'range_rover'\n",
      " 'carisma' 'antara' 'q7' 'c1' 'kadett' 'citigo' 'jimny' 'cx_reihe'\n",
      " 'cayenne' 'wrangler' 'lybra' 'lancer' 'freelander' 'captiva' 'fusion'\n",
      " 'range_rover_evoque' 'sandero' 'note' 'q3' 'spider' '90' 'sirion'\n",
      " 'defender' 'cherokee' 'seicento' 'clubman' 'legacy' 'pajero' 'cordoba'\n",
      " 'c2' 'niva' 's60' '900' 'nubira' 'vivaro' 'lanos' 'tucson' 'g_klasse'\n",
      " 'auris' 'lodgy' '850' 'range_rover_sport' '601' 'ypsilon' 'superb'\n",
      " 'justy' 'serie_2' 'calibra' 'charade' 'croma' 'outlander' 'gl' 'doblo'\n",
      " 'amarok' 'musa' '9000' 'kalos' 'v60' 'bravo' 'r19' '200' 'b_max' 'delta'\n",
      " '145' 'aveo' 'terios' 'move' 'materia' 'kalina' 'i3' 'samara'\n",
      " 'rangerover' 'serie_3' 'kappa' 'elefantino' 'discovery_sport']\n",
      "\n",
      "kilometer = [150000  90000  70000 100000  60000   5000  20000 125000  30000  80000\n",
      "  50000  40000  10000]\n",
      "\n",
      "monthOfRegistration = [ 6  7 10  8 12  3  2  1  4  9 11  5  0]\n",
      "\n",
      "fuelType = ['benzin' 'diesel' 'lpg' 'andere' 'hybrid' 'cng' 'elektro']\n",
      "\n",
      "brand = ['volkswagen' 'skoda' 'bmw' 'peugeot' 'mazda' 'nissan' 'renault' 'ford'\n",
      " 'mercedes_benz' 'honda' 'fiat' 'mini' 'opel' 'smart' 'audi' 'subaru'\n",
      " 'mitsubishi' 'hyundai' 'alfa_romeo' 'seat' 'lancia' 'porsche' 'citroen'\n",
      " 'toyota' 'kia' 'chevrolet' 'dacia' 'suzuki' 'daihatsu' 'chrysler' 'volvo'\n",
      " 'jaguar' 'rover' 'jeep' 'saab' 'daewoo' 'land_rover' 'trabant' 'lada']\n",
      "\n",
      "notRepairedDamage = ['nein' 'ja']\n",
      "\n",
      "dateCreated = ['2016-03-17 00:00:00' '2016-03-31 00:00:00' '2016-04-04 00:00:00'\n",
      " '2016-04-01 00:00:00' '2016-03-26 00:00:00' '2016-04-07 00:00:00'\n",
      " '2016-03-21 00:00:00' '2016-03-20 00:00:00' '2016-03-23 00:00:00'\n",
      " '2016-03-27 00:00:00' '2016-03-13 00:00:00' '2016-03-18 00:00:00'\n",
      " '2016-03-07 00:00:00' '2016-03-09 00:00:00' '2016-03-08 00:00:00'\n",
      " '2016-04-03 00:00:00' '2016-03-25 00:00:00' '2016-03-29 00:00:00'\n",
      " '2016-03-15 00:00:00' '2016-03-22 00:00:00' '2016-03-30 00:00:00'\n",
      " '2016-02-09 00:00:00' '2016-03-05 00:00:00' '2016-03-11 00:00:00'\n",
      " '2016-03-10 00:00:00' '2016-03-12 00:00:00' '2016-03-16 00:00:00'\n",
      " '2016-04-02 00:00:00' '2016-03-14 00:00:00' '2016-03-28 00:00:00'\n",
      " '2016-04-05 00:00:00' '2016-03-19 00:00:00' '2016-03-24 00:00:00'\n",
      " '2016-03-06 00:00:00' '2016-03-03 00:00:00' '2016-03-01 00:00:00'\n",
      " '2016-03-04 00:00:00' '2016-04-06 00:00:00' '2016-01-14 00:00:00'\n",
      " '2016-02-24 00:00:00' '2016-02-27 00:00:00' '2015-03-20 00:00:00'\n",
      " '2016-02-28 00:00:00' '2016-02-20 00:00:00' '2016-02-29 00:00:00'\n",
      " '2016-02-10 00:00:00' '2016-02-23 00:00:00' '2016-02-21 00:00:00'\n",
      " '2016-01-19 00:00:00' '2015-11-02 00:00:00' '2016-02-19 00:00:00'\n",
      " '2016-02-26 00:00:00' '2016-02-15 00:00:00' '2016-02-06 00:00:00'\n",
      " '2016-02-18 00:00:00' '2016-03-02 00:00:00' '2015-12-06 00:00:00'\n",
      " '2016-01-24 00:00:00' '2016-01-28 00:00:00' '2016-02-02 00:00:00'\n",
      " '2016-02-12 00:00:00' '2016-02-13 00:00:00' '2016-02-05 00:00:00'\n",
      " '2016-02-22 00:00:00' '2016-01-10 00:00:00' '2015-11-17 00:00:00'\n",
      " '2016-02-07 00:00:00' '2016-02-25 00:00:00' '2016-01-27 00:00:00'\n",
      " '2016-01-02 00:00:00' '2015-09-04 00:00:00' '2015-11-12 00:00:00'\n",
      " '2015-12-27 00:00:00' '2015-11-24 00:00:00' '2016-01-20 00:00:00'\n",
      " '2016-02-14 00:00:00' '2016-02-03 00:00:00' '2016-02-11 00:00:00'\n",
      " '2015-12-05 00:00:00' '2015-08-07 00:00:00' '2016-02-16 00:00:00'\n",
      " '2015-11-13 00:00:00' '2016-02-08 00:00:00' '2016-01-29 00:00:00'\n",
      " '2016-01-07 00:00:00' '2016-02-17 00:00:00' '2016-01-31 00:00:00'\n",
      " '2016-01-18 00:00:00' '2016-01-08 00:00:00' '2016-01-17 00:00:00'\n",
      " '2016-01-15 00:00:00' '2015-11-08 00:00:00' '2016-01-26 00:00:00'\n",
      " '2016-02-04 00:00:00' '2015-10-14 00:00:00' '2016-01-25 00:00:00'\n",
      " '2015-08-10 00:00:00' '2016-01-13 00:00:00' '2016-01-30 00:00:00'\n",
      " '2015-12-28 00:00:00' '2015-12-30 00:00:00' '2016-01-23 00:00:00'\n",
      " '2016-02-01 00:00:00' '2015-12-17 00:00:00' '2015-11-10 00:00:00'\n",
      " '2016-01-06 00:00:00' '2015-09-09 00:00:00']\n",
      "\n",
      "postalCode = [91074 60437 33775 ... 97654 24363 95691]\n",
      "\n"
     ]
    },
    {
     "name": "stdout",
     "output_type": "stream",
     "text": [
      "lastSeen = ['2016-03-17 17:40:17' '2016-04-06 10:17:21' '2016-04-06 19:17:07' ...\n",
      " '2016-04-02 18:16:20' '2016-03-19 20:44:43' '2016-03-29 10:17:23']\n",
      "\n"
     ]
    }
   ],
   "source": [
    "#Checking for the Structural Errors\n",
    "\n",
    "for i in df.columns:\n",
    "    print(f\"{i} = {df[i].unique()}\")\n",
    "    print()"
   ]
  },
  {
   "cell_type": "code",
   "execution_count": 21,
   "id": "abea73ab",
   "metadata": {},
   "outputs": [
    {
     "data": {
      "text/plain": [
       "array([ 6,  7, 10,  8, 12,  3,  2,  1,  4,  9, 11,  5,  0], dtype=int64)"
      ]
     },
     "execution_count": 21,
     "metadata": {},
     "output_type": "execute_result"
    }
   ],
   "source": [
    "df[\"monthOfRegistration\"].unique()"
   ]
  },
  {
   "cell_type": "code",
   "execution_count": 22,
   "id": "2bf753d0",
   "metadata": {},
   "outputs": [
    {
     "data": {
      "text/plain": [
       "3"
      ]
     },
     "execution_count": 22,
     "metadata": {},
     "output_type": "execute_result"
    }
   ],
   "source": [
    "df[\"monthOfRegistration\"].mode()[0]"
   ]
  },
  {
   "cell_type": "code",
   "execution_count": 23,
   "id": "65299ce5",
   "metadata": {},
   "outputs": [],
   "source": [
    "#Replacing the 0 with mode because there is no zero month.\n",
    "\n",
    "df['monthOfRegistration']= df['monthOfRegistration'].replace(0,df[\"monthOfRegistration\"].mode()[0])"
   ]
  },
  {
   "cell_type": "code",
   "execution_count": 24,
   "id": "a98e5bc4",
   "metadata": {},
   "outputs": [
    {
     "data": {
      "text/plain": [
       "array([ 6,  7, 10,  8, 12,  3,  2,  1,  4,  9, 11,  5], dtype=int64)"
      ]
     },
     "execution_count": 24,
     "metadata": {},
     "output_type": "execute_result"
    }
   ],
   "source": [
    "df[\"monthOfRegistration\"].unique()"
   ]
  },
  {
   "cell_type": "markdown",
   "id": "3a0208f0",
   "metadata": {},
   "source": [
    "### Type Casting"
   ]
  },
  {
   "cell_type": "code",
   "execution_count": 25,
   "id": "06e236ea",
   "metadata": {},
   "outputs": [
    {
     "data": {
      "text/plain": [
       "dateCrawled             object\n",
       "name                    object\n",
       "seller                  object\n",
       "offerType               object\n",
       "price                    int64\n",
       "abtest                  object\n",
       "vehicleType             object\n",
       "yearOfRegistration       int64\n",
       "gearbox                 object\n",
       "powerPS                float64\n",
       "model                   object\n",
       "kilometer                int64\n",
       "monthOfRegistration      int64\n",
       "fuelType                object\n",
       "brand                   object\n",
       "notRepairedDamage       object\n",
       "dateCreated             object\n",
       "postalCode               int64\n",
       "lastSeen                object\n",
       "dtype: object"
      ]
     },
     "execution_count": 25,
     "metadata": {},
     "output_type": "execute_result"
    }
   ],
   "source": [
    "df.dtypes"
   ]
  },
  {
   "cell_type": "code",
   "execution_count": 26,
   "id": "91961a36",
   "metadata": {},
   "outputs": [],
   "source": [
    "df[\"dateCrawled\"] = df[\"dateCrawled\"].astype(\"datetime64[ns]\")\n",
    "\n",
    "df[\"dateCreated\"] = df[\"dateCreated\"].astype(\"datetime64[ns]\")\n",
    "\n",
    "df[\"lastSeen\"]= df[\"lastSeen\"].astype(\"datetime64[ns]\")\n",
    "\n",
    "df[\"postalCode\"]= df[\"postalCode\"].astype(\"object\")\n",
    "\n",
    "df[\"yearOfRegistration\"]= df['yearOfRegistration'].astype(\"object\")\n",
    "\n",
    "df[\"monthOfRegistration\"]= df[\"monthOfRegistration\"].astype(\"object\")"
   ]
  },
  {
   "cell_type": "code",
   "execution_count": 27,
   "id": "4325b568",
   "metadata": {},
   "outputs": [
    {
     "data": {
      "text/plain": [
       "dateCrawled            datetime64[ns]\n",
       "name                           object\n",
       "seller                         object\n",
       "offerType                      object\n",
       "price                           int64\n",
       "abtest                         object\n",
       "vehicleType                    object\n",
       "yearOfRegistration             object\n",
       "gearbox                        object\n",
       "powerPS                       float64\n",
       "model                          object\n",
       "kilometer                       int64\n",
       "monthOfRegistration            object\n",
       "fuelType                       object\n",
       "brand                          object\n",
       "notRepairedDamage              object\n",
       "dateCreated            datetime64[ns]\n",
       "postalCode                     object\n",
       "lastSeen               datetime64[ns]\n",
       "dtype: object"
      ]
     },
     "execution_count": 27,
     "metadata": {},
     "output_type": "execute_result"
    }
   ],
   "source": [
    "df.dtypes"
   ]
  },
  {
   "cell_type": "markdown",
   "id": "ebe229f2",
   "metadata": {},
   "source": [
    "### Cleaned DataFrame"
   ]
  },
  {
   "cell_type": "code",
   "execution_count": 28,
   "id": "b8d13e61",
   "metadata": {},
   "outputs": [
    {
     "data": {
      "text/html": [
       "<div>\n",
       "<style scoped>\n",
       "    .dataframe tbody tr th:only-of-type {\n",
       "        vertical-align: middle;\n",
       "    }\n",
       "\n",
       "    .dataframe tbody tr th {\n",
       "        vertical-align: top;\n",
       "    }\n",
       "\n",
       "    .dataframe thead th {\n",
       "        text-align: right;\n",
       "    }\n",
       "</style>\n",
       "<table border=\"1\" class=\"dataframe\">\n",
       "  <thead>\n",
       "    <tr style=\"text-align: right;\">\n",
       "      <th></th>\n",
       "      <th>dateCrawled</th>\n",
       "      <th>name</th>\n",
       "      <th>seller</th>\n",
       "      <th>offerType</th>\n",
       "      <th>price</th>\n",
       "      <th>abtest</th>\n",
       "      <th>vehicleType</th>\n",
       "      <th>yearOfRegistration</th>\n",
       "      <th>gearbox</th>\n",
       "      <th>powerPS</th>\n",
       "      <th>model</th>\n",
       "      <th>kilometer</th>\n",
       "      <th>monthOfRegistration</th>\n",
       "      <th>fuelType</th>\n",
       "      <th>brand</th>\n",
       "      <th>notRepairedDamage</th>\n",
       "      <th>dateCreated</th>\n",
       "      <th>postalCode</th>\n",
       "      <th>lastSeen</th>\n",
       "    </tr>\n",
       "  </thead>\n",
       "  <tbody>\n",
       "    <tr>\n",
       "      <th>3</th>\n",
       "      <td>2016-03-17 16:54:04</td>\n",
       "      <td>GOLF_4_1_4__3TÜRER</td>\n",
       "      <td>privat</td>\n",
       "      <td>Angebot</td>\n",
       "      <td>1500</td>\n",
       "      <td>test</td>\n",
       "      <td>kleinwagen</td>\n",
       "      <td>2001</td>\n",
       "      <td>manuell</td>\n",
       "      <td>75.0</td>\n",
       "      <td>golf</td>\n",
       "      <td>150000</td>\n",
       "      <td>6</td>\n",
       "      <td>benzin</td>\n",
       "      <td>volkswagen</td>\n",
       "      <td>nein</td>\n",
       "      <td>2016-03-17</td>\n",
       "      <td>91074</td>\n",
       "      <td>2016-03-17 17:40:17</td>\n",
       "    </tr>\n",
       "    <tr>\n",
       "      <th>4</th>\n",
       "      <td>2016-03-31 17:25:20</td>\n",
       "      <td>Skoda_Fabia_1.4_TDI_PD_Classic</td>\n",
       "      <td>privat</td>\n",
       "      <td>Angebot</td>\n",
       "      <td>3600</td>\n",
       "      <td>test</td>\n",
       "      <td>kleinwagen</td>\n",
       "      <td>2008</td>\n",
       "      <td>manuell</td>\n",
       "      <td>69.0</td>\n",
       "      <td>fabia</td>\n",
       "      <td>90000</td>\n",
       "      <td>7</td>\n",
       "      <td>diesel</td>\n",
       "      <td>skoda</td>\n",
       "      <td>nein</td>\n",
       "      <td>2016-03-31</td>\n",
       "      <td>60437</td>\n",
       "      <td>2016-04-06 10:17:21</td>\n",
       "    </tr>\n",
       "    <tr>\n",
       "      <th>5</th>\n",
       "      <td>2016-04-04 17:36:23</td>\n",
       "      <td>BMW_316i___e36_Limousine___Bastlerfahrzeug__Ex...</td>\n",
       "      <td>privat</td>\n",
       "      <td>Angebot</td>\n",
       "      <td>650</td>\n",
       "      <td>test</td>\n",
       "      <td>limousine</td>\n",
       "      <td>1995</td>\n",
       "      <td>manuell</td>\n",
       "      <td>102.0</td>\n",
       "      <td>3er</td>\n",
       "      <td>150000</td>\n",
       "      <td>10</td>\n",
       "      <td>benzin</td>\n",
       "      <td>bmw</td>\n",
       "      <td>ja</td>\n",
       "      <td>2016-04-04</td>\n",
       "      <td>33775</td>\n",
       "      <td>2016-04-06 19:17:07</td>\n",
       "    </tr>\n",
       "    <tr>\n",
       "      <th>6</th>\n",
       "      <td>2016-04-01 20:48:51</td>\n",
       "      <td>Peugeot_206_CC_110_Platinum</td>\n",
       "      <td>privat</td>\n",
       "      <td>Angebot</td>\n",
       "      <td>2200</td>\n",
       "      <td>test</td>\n",
       "      <td>cabrio</td>\n",
       "      <td>2004</td>\n",
       "      <td>manuell</td>\n",
       "      <td>109.0</td>\n",
       "      <td>2_reihe</td>\n",
       "      <td>150000</td>\n",
       "      <td>8</td>\n",
       "      <td>benzin</td>\n",
       "      <td>peugeot</td>\n",
       "      <td>nein</td>\n",
       "      <td>2016-04-01</td>\n",
       "      <td>67112</td>\n",
       "      <td>2016-04-05 18:18:39</td>\n",
       "    </tr>\n",
       "    <tr>\n",
       "      <th>10</th>\n",
       "      <td>2016-03-26 19:54:18</td>\n",
       "      <td>Mazda_3_1.6_Sport</td>\n",
       "      <td>privat</td>\n",
       "      <td>Angebot</td>\n",
       "      <td>2000</td>\n",
       "      <td>control</td>\n",
       "      <td>limousine</td>\n",
       "      <td>2004</td>\n",
       "      <td>manuell</td>\n",
       "      <td>105.0</td>\n",
       "      <td>3_reihe</td>\n",
       "      <td>150000</td>\n",
       "      <td>12</td>\n",
       "      <td>benzin</td>\n",
       "      <td>mazda</td>\n",
       "      <td>nein</td>\n",
       "      <td>2016-03-26</td>\n",
       "      <td>96224</td>\n",
       "      <td>2016-04-06 10:45:34</td>\n",
       "    </tr>\n",
       "    <tr>\n",
       "      <th>...</th>\n",
       "      <td>...</td>\n",
       "      <td>...</td>\n",
       "      <td>...</td>\n",
       "      <td>...</td>\n",
       "      <td>...</td>\n",
       "      <td>...</td>\n",
       "      <td>...</td>\n",
       "      <td>...</td>\n",
       "      <td>...</td>\n",
       "      <td>...</td>\n",
       "      <td>...</td>\n",
       "      <td>...</td>\n",
       "      <td>...</td>\n",
       "      <td>...</td>\n",
       "      <td>...</td>\n",
       "      <td>...</td>\n",
       "      <td>...</td>\n",
       "      <td>...</td>\n",
       "      <td>...</td>\n",
       "    </tr>\n",
       "    <tr>\n",
       "      <th>371520</th>\n",
       "      <td>2016-03-19 19:53:49</td>\n",
       "      <td>turbo_defekt</td>\n",
       "      <td>privat</td>\n",
       "      <td>Angebot</td>\n",
       "      <td>3200</td>\n",
       "      <td>control</td>\n",
       "      <td>limousine</td>\n",
       "      <td>2004</td>\n",
       "      <td>manuell</td>\n",
       "      <td>225.0</td>\n",
       "      <td>leon</td>\n",
       "      <td>150000</td>\n",
       "      <td>5</td>\n",
       "      <td>benzin</td>\n",
       "      <td>seat</td>\n",
       "      <td>ja</td>\n",
       "      <td>2016-03-19</td>\n",
       "      <td>96465</td>\n",
       "      <td>2016-03-19 20:44:43</td>\n",
       "    </tr>\n",
       "    <tr>\n",
       "      <th>371521</th>\n",
       "      <td>2016-03-27 20:36:20</td>\n",
       "      <td>Opel_Zafira_1.6_Elegance_TÜV_12/16</td>\n",
       "      <td>privat</td>\n",
       "      <td>Angebot</td>\n",
       "      <td>1150</td>\n",
       "      <td>control</td>\n",
       "      <td>bus</td>\n",
       "      <td>2000</td>\n",
       "      <td>manuell</td>\n",
       "      <td>116.0</td>\n",
       "      <td>zafira</td>\n",
       "      <td>150000</td>\n",
       "      <td>3</td>\n",
       "      <td>benzin</td>\n",
       "      <td>opel</td>\n",
       "      <td>nein</td>\n",
       "      <td>2016-03-27</td>\n",
       "      <td>26624</td>\n",
       "      <td>2016-03-29 10:17:23</td>\n",
       "    </tr>\n",
       "    <tr>\n",
       "      <th>371524</th>\n",
       "      <td>2016-03-05 19:56:21</td>\n",
       "      <td>Smart_smart_leistungssteigerung_100ps</td>\n",
       "      <td>privat</td>\n",
       "      <td>Angebot</td>\n",
       "      <td>1199</td>\n",
       "      <td>test</td>\n",
       "      <td>cabrio</td>\n",
       "      <td>2000</td>\n",
       "      <td>automatik</td>\n",
       "      <td>101.0</td>\n",
       "      <td>fortwo</td>\n",
       "      <td>125000</td>\n",
       "      <td>3</td>\n",
       "      <td>benzin</td>\n",
       "      <td>smart</td>\n",
       "      <td>nein</td>\n",
       "      <td>2016-03-05</td>\n",
       "      <td>26135</td>\n",
       "      <td>2016-03-11 18:17:12</td>\n",
       "    </tr>\n",
       "    <tr>\n",
       "      <th>371525</th>\n",
       "      <td>2016-03-19 18:57:12</td>\n",
       "      <td>Volkswagen_Multivan_T4_TDI_7DC_UY2</td>\n",
       "      <td>privat</td>\n",
       "      <td>Angebot</td>\n",
       "      <td>9200</td>\n",
       "      <td>test</td>\n",
       "      <td>bus</td>\n",
       "      <td>1996</td>\n",
       "      <td>manuell</td>\n",
       "      <td>102.0</td>\n",
       "      <td>transporter</td>\n",
       "      <td>150000</td>\n",
       "      <td>3</td>\n",
       "      <td>diesel</td>\n",
       "      <td>volkswagen</td>\n",
       "      <td>nein</td>\n",
       "      <td>2016-03-19</td>\n",
       "      <td>87439</td>\n",
       "      <td>2016-04-07 07:15:26</td>\n",
       "    </tr>\n",
       "    <tr>\n",
       "      <th>371527</th>\n",
       "      <td>2016-03-07 19:39:19</td>\n",
       "      <td>BMW_M135i_vollausgestattet_NP_52.720____Euro</td>\n",
       "      <td>privat</td>\n",
       "      <td>Angebot</td>\n",
       "      <td>28990</td>\n",
       "      <td>control</td>\n",
       "      <td>limousine</td>\n",
       "      <td>2013</td>\n",
       "      <td>manuell</td>\n",
       "      <td>320.0</td>\n",
       "      <td>m_reihe</td>\n",
       "      <td>50000</td>\n",
       "      <td>8</td>\n",
       "      <td>benzin</td>\n",
       "      <td>bmw</td>\n",
       "      <td>nein</td>\n",
       "      <td>2016-03-07</td>\n",
       "      <td>73326</td>\n",
       "      <td>2016-03-22 03:17:10</td>\n",
       "    </tr>\n",
       "  </tbody>\n",
       "</table>\n",
       "<p>248088 rows × 19 columns</p>\n",
       "</div>"
      ],
      "text/plain": [
       "               dateCrawled                                               name  \\\n",
       "3      2016-03-17 16:54:04                                 GOLF_4_1_4__3TÜRER   \n",
       "4      2016-03-31 17:25:20                     Skoda_Fabia_1.4_TDI_PD_Classic   \n",
       "5      2016-04-04 17:36:23  BMW_316i___e36_Limousine___Bastlerfahrzeug__Ex...   \n",
       "6      2016-04-01 20:48:51                        Peugeot_206_CC_110_Platinum   \n",
       "10     2016-03-26 19:54:18                                  Mazda_3_1.6_Sport   \n",
       "...                    ...                                                ...   \n",
       "371520 2016-03-19 19:53:49                                       turbo_defekt   \n",
       "371521 2016-03-27 20:36:20                 Opel_Zafira_1.6_Elegance_TÜV_12/16   \n",
       "371524 2016-03-05 19:56:21              Smart_smart_leistungssteigerung_100ps   \n",
       "371525 2016-03-19 18:57:12                 Volkswagen_Multivan_T4_TDI_7DC_UY2   \n",
       "371527 2016-03-07 19:39:19       BMW_M135i_vollausgestattet_NP_52.720____Euro   \n",
       "\n",
       "        seller offerType  price   abtest vehicleType yearOfRegistration  \\\n",
       "3       privat   Angebot   1500     test  kleinwagen               2001   \n",
       "4       privat   Angebot   3600     test  kleinwagen               2008   \n",
       "5       privat   Angebot    650     test   limousine               1995   \n",
       "6       privat   Angebot   2200     test      cabrio               2004   \n",
       "10      privat   Angebot   2000  control   limousine               2004   \n",
       "...        ...       ...    ...      ...         ...                ...   \n",
       "371520  privat   Angebot   3200  control   limousine               2004   \n",
       "371521  privat   Angebot   1150  control         bus               2000   \n",
       "371524  privat   Angebot   1199     test      cabrio               2000   \n",
       "371525  privat   Angebot   9200     test         bus               1996   \n",
       "371527  privat   Angebot  28990  control   limousine               2013   \n",
       "\n",
       "          gearbox  powerPS        model  kilometer monthOfRegistration  \\\n",
       "3         manuell     75.0         golf     150000                   6   \n",
       "4         manuell     69.0        fabia      90000                   7   \n",
       "5         manuell    102.0          3er     150000                  10   \n",
       "6         manuell    109.0      2_reihe     150000                   8   \n",
       "10        manuell    105.0      3_reihe     150000                  12   \n",
       "...           ...      ...          ...        ...                 ...   \n",
       "371520    manuell    225.0         leon     150000                   5   \n",
       "371521    manuell    116.0       zafira     150000                   3   \n",
       "371524  automatik    101.0       fortwo     125000                   3   \n",
       "371525    manuell    102.0  transporter     150000                   3   \n",
       "371527    manuell    320.0      m_reihe      50000                   8   \n",
       "\n",
       "       fuelType       brand notRepairedDamage dateCreated postalCode  \\\n",
       "3        benzin  volkswagen              nein  2016-03-17      91074   \n",
       "4        diesel       skoda              nein  2016-03-31      60437   \n",
       "5        benzin         bmw                ja  2016-04-04      33775   \n",
       "6        benzin     peugeot              nein  2016-04-01      67112   \n",
       "10       benzin       mazda              nein  2016-03-26      96224   \n",
       "...         ...         ...               ...         ...        ...   \n",
       "371520   benzin        seat                ja  2016-03-19      96465   \n",
       "371521   benzin        opel              nein  2016-03-27      26624   \n",
       "371524   benzin       smart              nein  2016-03-05      26135   \n",
       "371525   diesel  volkswagen              nein  2016-03-19      87439   \n",
       "371527   benzin         bmw              nein  2016-03-07      73326   \n",
       "\n",
       "                  lastSeen  \n",
       "3      2016-03-17 17:40:17  \n",
       "4      2016-04-06 10:17:21  \n",
       "5      2016-04-06 19:17:07  \n",
       "6      2016-04-05 18:18:39  \n",
       "10     2016-04-06 10:45:34  \n",
       "...                    ...  \n",
       "371520 2016-03-19 20:44:43  \n",
       "371521 2016-03-29 10:17:23  \n",
       "371524 2016-03-11 18:17:12  \n",
       "371525 2016-04-07 07:15:26  \n",
       "371527 2016-03-22 03:17:10  \n",
       "\n",
       "[248088 rows x 19 columns]"
      ]
     },
     "execution_count": 28,
     "metadata": {},
     "output_type": "execute_result"
    }
   ],
   "source": [
    "df"
   ]
  },
  {
   "cell_type": "code",
   "execution_count": 29,
   "id": "ff752a19",
   "metadata": {},
   "outputs": [],
   "source": [
    "#Saving the cleaned DataFrame into csv format for further analysis\n",
    "\n",
    "df.to_csv(\"df_cleaned.csv\")"
   ]
  },
  {
   "cell_type": "markdown",
   "id": "298a8103",
   "metadata": {},
   "source": [
    "#### 2. Can you tell me the Distribution of Vehicles based on Year of Registration with the help of a plot"
   ]
  },
  {
   "cell_type": "code",
   "execution_count": 30,
   "id": "3e860dbd",
   "metadata": {},
   "outputs": [
    {
     "data": {
      "text/plain": [
       "<Axes: xlabel='yearOfRegistration', ylabel='Density'>"
      ]
     },
     "execution_count": 30,
     "metadata": {},
     "output_type": "execute_result"
    },
    {
     "data": {
      "image/png": "[encoded data removed]",
      "text/plain": [
       "<Figure size 640x480 with 1 Axes>"
      ]
     },
     "metadata": {},
     "output_type": "display_data"
    }
   ],
   "source": [
    "sns.kdeplot(data=df,x=\"yearOfRegistration\")"
   ]
  },
  {
   "cell_type": "markdown",
   "id": "43911a6f",
   "metadata": {},
   "source": [
    "#### conclusion:\n",
    "* yearofRegistration is **`Left Skewed Distribution`** because more data points on the right side and the long tail extending to the left side."
   ]
  },
  {
   "cell_type": "markdown",
   "id": "590a1bf3",
   "metadata": {},
   "source": [
    "#### 3.Create a plot based on the Variation of the price range by the vehicle type"
   ]
  },
  {
   "cell_type": "code",
   "execution_count": 31,
   "id": "ad860c7a",
   "metadata": {},
   "outputs": [
    {
     "data": {
      "text/plain": [
       "<Axes: xlabel='vehicleType'>"
      ]
     },
     "execution_count": 31,
     "metadata": {},
     "output_type": "execute_result"
    },
    {
     "data": {
      "image/png": "[encoded data removed]",
      "text/plain": [
       "<Figure size 640x480 with 1 Axes>"
      ]
     },
     "metadata": {},
     "output_type": "display_data"
    }
   ],
   "source": [
    "df.groupby(\"vehicleType\")[\"price\"].mean().plot(kind=\"bar\")"
   ]
  },
  {
   "cell_type": "markdown",
   "id": "7aa6ec4e",
   "metadata": {},
   "source": [
    "#### counclusion:  \n",
    "* On an average,The highest price for a vehicle is 14000 for suv and lowest price for a vehicle is around 3000 for kleinwagen."
   ]
  },
  {
   "cell_type": "markdown",
   "id": "f035fa06",
   "metadata": {},
   "source": [
    "#### 4. Find out Total count of vehicles by type available on ebay for sale.As well as create a visualization for the client"
   ]
  },
  {
   "cell_type": "code",
   "execution_count": 32,
   "id": "85a29b30",
   "metadata": {},
   "outputs": [
    {
     "data": {
      "text/plain": [
       "vehicleType\n",
       "limousine     73309\n",
       "kleinwagen    53422\n",
       "kombi         51133\n",
       "bus           24470\n",
       "cabrio        18271\n",
       "coupe         13968\n",
       "suv           11955\n",
       "andere         1560\n",
       "Name: count, dtype: int64"
      ]
     },
     "execution_count": 32,
     "metadata": {},
     "output_type": "execute_result"
    }
   ],
   "source": [
    "#Total count of vehicles by type\n",
    "\n",
    "df[\"vehicleType\"].value_counts()"
   ]
  },
  {
   "cell_type": "code",
   "execution_count": 33,
   "id": "c109dda8",
   "metadata": {},
   "outputs": [
    {
     "data": {
      "text/plain": [
       "<Axes: xlabel='vehicleType', ylabel='Count of Vehicles'>"
      ]
     },
     "execution_count": 33,
     "metadata": {},
     "output_type": "execute_result"
    },
    {
     "data": {
      "image/png": "[encoded data removed]",
      "text/plain": [
       "<Figure size 640x480 with 1 Axes>"
      ]
     },
     "metadata": {},
     "output_type": "display_data"
    }
   ],
   "source": [
    "df[\"vehicleType\"].value_counts().plot(kind=\"bar\",ylabel = \"Count of Vehicles\")"
   ]
  },
  {
   "cell_type": "markdown",
   "id": "f3905d65",
   "metadata": {},
   "source": [
    "#### conclusion:\n",
    "* As per the data,limousine is the most repeated vehicle type and it's count is around 75000.\n",
    "* Andere(others) are the least repeated vehicle type and it's count is around 1600."
   ]
  },
  {
   "cell_type": "markdown",
   "id": "3304d601",
   "metadata": {},
   "source": [
    "#### 5. Is there any relationship between dollar_price and kilometer? (Explain with appropriate analysis)"
   ]
  },
  {
   "cell_type": "code",
   "execution_count": 34,
   "id": "84d82ca4",
   "metadata": {},
   "outputs": [
    {
     "data": {
      "text/html": [
       "<div>\n",
       "<style scoped>\n",
       "    .dataframe tbody tr th:only-of-type {\n",
       "        vertical-align: middle;\n",
       "    }\n",
       "\n",
       "    .dataframe tbody tr th {\n",
       "        vertical-align: top;\n",
       "    }\n",
       "\n",
       "    .dataframe thead th {\n",
       "        text-align: right;\n",
       "    }\n",
       "</style>\n",
       "<table border=\"1\" class=\"dataframe\">\n",
       "  <thead>\n",
       "    <tr style=\"text-align: right;\">\n",
       "      <th></th>\n",
       "      <th>price</th>\n",
       "      <th>powerPS</th>\n",
       "      <th>kilometer</th>\n",
       "    </tr>\n",
       "  </thead>\n",
       "  <tbody>\n",
       "    <tr>\n",
       "      <th>price</th>\n",
       "      <td>1.000000</td>\n",
       "      <td>0.501666</td>\n",
       "      <td>-0.421154</td>\n",
       "    </tr>\n",
       "    <tr>\n",
       "      <th>powerPS</th>\n",
       "      <td>0.501666</td>\n",
       "      <td>1.000000</td>\n",
       "      <td>-0.012793</td>\n",
       "    </tr>\n",
       "    <tr>\n",
       "      <th>kilometer</th>\n",
       "      <td>-0.421154</td>\n",
       "      <td>-0.012793</td>\n",
       "      <td>1.000000</td>\n",
       "    </tr>\n",
       "  </tbody>\n",
       "</table>\n",
       "</div>"
      ],
      "text/plain": [
       "              price   powerPS  kilometer\n",
       "price      1.000000  0.501666  -0.421154\n",
       "powerPS    0.501666  1.000000  -0.012793\n",
       "kilometer -0.421154 -0.012793   1.000000"
      ]
     },
     "execution_count": 34,
     "metadata": {},
     "output_type": "execute_result"
    }
   ],
   "source": [
    "df.corr(numeric_only=True)"
   ]
  },
  {
   "cell_type": "code",
   "execution_count": 35,
   "id": "4a098113",
   "metadata": {},
   "outputs": [
    {
     "data": {
      "text/plain": [
       "<Axes: >"
      ]
     },
     "execution_count": 35,
     "metadata": {},
     "output_type": "execute_result"
    },
    {
     "data": {
      "image/png": "[encoded data removed]",
      "text/plain": [
       "<Figure size 640x480 with 2 Axes>"
      ]
     },
     "metadata": {},
     "output_type": "display_data"
    }
   ],
   "source": [
    "sns.heatmap(df.corr(numeric_only=True),annot=True)"
   ]
  },
  {
   "cell_type": "markdown",
   "id": "34408e94",
   "metadata": {},
   "source": [
    "#### conclusion:\n",
    "* According to the given data,The relationship is negative weak relationship. \n",
    "* Which means if the kilometers that car travelled is increased the price decreases and if the kilometers travelled by the car is less then the price of the car is high."
   ]
  },
  {
   "cell_type": "code",
   "execution_count": null,
   "id": "4b83ce47",
   "metadata": {},
   "outputs": [],
   "source": []
  }
 ],
 "metadata": {
  "kernelspec": {
   "display_name": "Python 3 (ipykernel)",
   "language": "python",
   "name": "python3"
  },
  "language_info": {
   "codemirror_mode": {
    "name": "ipython",
    "version": 3
   },
   "file_extension": ".py",
   "mimetype": "text/x-python",
   "name": "python",
   "nbconvert_exporter": "python",
   "pygments_lexer": "ipython3",
   "version": "3.11.4"
  }
 },
 "nbformat": 4,
 "nbformat_minor": 5
}
